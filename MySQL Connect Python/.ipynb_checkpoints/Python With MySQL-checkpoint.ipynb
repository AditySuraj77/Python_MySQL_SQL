{
 "cells": [
  {
   "cell_type": "code",
   "execution_count": 1,
   "id": "b7aae871",
   "metadata": {},
   "outputs": [],
   "source": [
    "import mysql.connector"
   ]
  },
  {
   "cell_type": "markdown",
   "id": "c6a26862",
   "metadata": {},
   "source": [
    "# Connecting mysql"
   ]
  },
  {
   "cell_type": "code",
   "execution_count": 2,
   "id": "d9af291e",
   "metadata": {},
   "outputs": [
    {
     "name": "stdout",
     "output_type": "stream",
     "text": [
      "<mysql.connector.connection_cext.CMySQLConnection object at 0x0000029C37C221F0>\n"
     ]
    }
   ],
   "source": [
    "mydb = mysql.connector.connect(\n",
    "    host = 'localhost',\n",
    "    user = 'root',\n",
    "    password = 'Aditya100'\n",
    "\n",
    "\n",
    ")\n",
    "print(mydb)"
   ]
  },
  {
   "cell_type": "markdown",
   "id": "bf103d8c",
   "metadata": {},
   "source": [
    "# Create Database"
   ]
  },
  {
   "cell_type": "code",
   "execution_count": 3,
   "id": "bf34671b",
   "metadata": {},
   "outputs": [
    {
     "ename": "DatabaseError",
     "evalue": "1007 (HY000): Can't create database 'cold'; database exists",
     "output_type": "error",
     "traceback": [
      "\u001b[1;31m---------------------------------------------------------------------------\u001b[0m",
      "\u001b[1;31mMySQLInterfaceError\u001b[0m                       Traceback (most recent call last)",
      "File \u001b[1;32m~\\AppData\\Local\\Programs\\Python\\Python39\\lib\\site-packages\\mysql\\connector\\connection_cext.py:565\u001b[0m, in \u001b[0;36mCMySQLConnection.cmd_query\u001b[1;34m(self, query, raw, buffered, raw_as_string)\u001b[0m\n\u001b[0;32m    564\u001b[0m         query \u001b[38;5;241m=\u001b[39m query\u001b[38;5;241m.\u001b[39mencode(\u001b[38;5;124m\"\u001b[39m\u001b[38;5;124mutf-8\u001b[39m\u001b[38;5;124m\"\u001b[39m)\n\u001b[1;32m--> 565\u001b[0m     \u001b[38;5;28;43mself\u001b[39;49m\u001b[38;5;241;43m.\u001b[39;49m\u001b[43m_cmysql\u001b[49m\u001b[38;5;241;43m.\u001b[39;49m\u001b[43mquery\u001b[49m\u001b[43m(\u001b[49m\n\u001b[0;32m    566\u001b[0m \u001b[43m        \u001b[49m\u001b[43mquery\u001b[49m\u001b[43m,\u001b[49m\n\u001b[0;32m    567\u001b[0m \u001b[43m        \u001b[49m\u001b[43mraw\u001b[49m\u001b[38;5;241;43m=\u001b[39;49m\u001b[43mraw\u001b[49m\u001b[43m,\u001b[49m\n\u001b[0;32m    568\u001b[0m \u001b[43m        \u001b[49m\u001b[43mbuffered\u001b[49m\u001b[38;5;241;43m=\u001b[39;49m\u001b[43mbuffered\u001b[49m\u001b[43m,\u001b[49m\n\u001b[0;32m    569\u001b[0m \u001b[43m        \u001b[49m\u001b[43mraw_as_string\u001b[49m\u001b[38;5;241;43m=\u001b[39;49m\u001b[43mraw_as_string\u001b[49m\u001b[43m,\u001b[49m\n\u001b[0;32m    570\u001b[0m \u001b[43m        \u001b[49m\u001b[43mquery_attrs\u001b[49m\u001b[38;5;241;43m=\u001b[39;49m\u001b[38;5;28;43mself\u001b[39;49m\u001b[38;5;241;43m.\u001b[39;49m\u001b[43m_query_attrs\u001b[49m\u001b[43m,\u001b[49m\n\u001b[0;32m    571\u001b[0m \u001b[43m    \u001b[49m\u001b[43m)\u001b[49m\n\u001b[0;32m    572\u001b[0m \u001b[38;5;28;01mexcept\u001b[39;00m MySQLInterfaceError \u001b[38;5;28;01mas\u001b[39;00m err:\n",
      "\u001b[1;31mMySQLInterfaceError\u001b[0m: Can't create database 'cold'; database exists",
      "\nThe above exception was the direct cause of the following exception:\n",
      "\u001b[1;31mDatabaseError\u001b[0m                             Traceback (most recent call last)",
      "Input \u001b[1;32mIn [3]\u001b[0m, in \u001b[0;36m<cell line: 3>\u001b[1;34m()\u001b[0m\n\u001b[0;32m      1\u001b[0m mycursor \u001b[38;5;241m=\u001b[39m mydb\u001b[38;5;241m.\u001b[39mcursor()\n\u001b[1;32m----> 3\u001b[0m \u001b[43mmycursor\u001b[49m\u001b[38;5;241;43m.\u001b[39;49m\u001b[43mexecute\u001b[49m\u001b[43m(\u001b[49m\u001b[38;5;124;43m'\u001b[39;49m\u001b[38;5;124;43mCREATE DATABASE cold\u001b[39;49m\u001b[38;5;124;43m'\u001b[39;49m\u001b[43m)\u001b[49m\n",
      "File \u001b[1;32m~\\AppData\\Local\\Programs\\Python\\Python39\\lib\\site-packages\\mysql\\connector\\cursor_cext.py:279\u001b[0m, in \u001b[0;36mCMySQLCursor.execute\u001b[1;34m(self, operation, params, multi)\u001b[0m\n\u001b[0;32m    274\u001b[0m             \u001b[38;5;28;01mraise\u001b[39;00m ProgrammingError(\n\u001b[0;32m    275\u001b[0m                 \u001b[38;5;124m\"\u001b[39m\u001b[38;5;124mNot all parameters were used in the SQL statement\u001b[39m\u001b[38;5;124m\"\u001b[39m\n\u001b[0;32m    276\u001b[0m             )\n\u001b[0;32m    278\u001b[0m \u001b[38;5;28;01mtry\u001b[39;00m:\n\u001b[1;32m--> 279\u001b[0m     result \u001b[38;5;241m=\u001b[39m \u001b[38;5;28;43mself\u001b[39;49m\u001b[38;5;241;43m.\u001b[39;49m\u001b[43m_cnx\u001b[49m\u001b[38;5;241;43m.\u001b[39;49m\u001b[43mcmd_query\u001b[49m\u001b[43m(\u001b[49m\n\u001b[0;32m    280\u001b[0m \u001b[43m        \u001b[49m\u001b[43mstmt\u001b[49m\u001b[43m,\u001b[49m\n\u001b[0;32m    281\u001b[0m \u001b[43m        \u001b[49m\u001b[43mraw\u001b[49m\u001b[38;5;241;43m=\u001b[39;49m\u001b[38;5;28;43mself\u001b[39;49m\u001b[38;5;241;43m.\u001b[39;49m\u001b[43m_raw\u001b[49m\u001b[43m,\u001b[49m\n\u001b[0;32m    282\u001b[0m \u001b[43m        \u001b[49m\u001b[43mbuffered\u001b[49m\u001b[38;5;241;43m=\u001b[39;49m\u001b[38;5;28;43mself\u001b[39;49m\u001b[38;5;241;43m.\u001b[39;49m\u001b[43m_buffered\u001b[49m\u001b[43m,\u001b[49m\n\u001b[0;32m    283\u001b[0m \u001b[43m        \u001b[49m\u001b[43mraw_as_string\u001b[49m\u001b[38;5;241;43m=\u001b[39;49m\u001b[38;5;28;43mself\u001b[39;49m\u001b[38;5;241;43m.\u001b[39;49m\u001b[43m_raw_as_string\u001b[49m\u001b[43m,\u001b[49m\n\u001b[0;32m    284\u001b[0m \u001b[43m    \u001b[49m\u001b[43m)\u001b[49m\n\u001b[0;32m    285\u001b[0m \u001b[38;5;28;01mexcept\u001b[39;00m MySQLInterfaceError \u001b[38;5;28;01mas\u001b[39;00m err:\n\u001b[0;32m    286\u001b[0m     \u001b[38;5;28;01mraise\u001b[39;00m get_mysql_exception(\n\u001b[0;32m    287\u001b[0m         msg\u001b[38;5;241m=\u001b[39merr\u001b[38;5;241m.\u001b[39mmsg, errno\u001b[38;5;241m=\u001b[39merr\u001b[38;5;241m.\u001b[39merrno, sqlstate\u001b[38;5;241m=\u001b[39merr\u001b[38;5;241m.\u001b[39msqlstate\n\u001b[0;32m    288\u001b[0m     ) \u001b[38;5;28;01mfrom\u001b[39;00m \u001b[38;5;21;01merr\u001b[39;00m\n",
      "File \u001b[1;32m~\\AppData\\Local\\Programs\\Python\\Python39\\lib\\site-packages\\mysql\\connector\\connection_cext.py:573\u001b[0m, in \u001b[0;36mCMySQLConnection.cmd_query\u001b[1;34m(self, query, raw, buffered, raw_as_string)\u001b[0m\n\u001b[0;32m    565\u001b[0m     \u001b[38;5;28mself\u001b[39m\u001b[38;5;241m.\u001b[39m_cmysql\u001b[38;5;241m.\u001b[39mquery(\n\u001b[0;32m    566\u001b[0m         query,\n\u001b[0;32m    567\u001b[0m         raw\u001b[38;5;241m=\u001b[39mraw,\n\u001b[1;32m   (...)\u001b[0m\n\u001b[0;32m    570\u001b[0m         query_attrs\u001b[38;5;241m=\u001b[39m\u001b[38;5;28mself\u001b[39m\u001b[38;5;241m.\u001b[39m_query_attrs,\n\u001b[0;32m    571\u001b[0m     )\n\u001b[0;32m    572\u001b[0m \u001b[38;5;28;01mexcept\u001b[39;00m MySQLInterfaceError \u001b[38;5;28;01mas\u001b[39;00m err:\n\u001b[1;32m--> 573\u001b[0m     \u001b[38;5;28;01mraise\u001b[39;00m get_mysql_exception(\n\u001b[0;32m    574\u001b[0m         err\u001b[38;5;241m.\u001b[39merrno, msg\u001b[38;5;241m=\u001b[39merr\u001b[38;5;241m.\u001b[39mmsg, sqlstate\u001b[38;5;241m=\u001b[39merr\u001b[38;5;241m.\u001b[39msqlstate\n\u001b[0;32m    575\u001b[0m     ) \u001b[38;5;28;01mfrom\u001b[39;00m \u001b[38;5;21;01merr\u001b[39;00m\n\u001b[0;32m    576\u001b[0m \u001b[38;5;28;01mexcept\u001b[39;00m \u001b[38;5;167;01mAttributeError\u001b[39;00m \u001b[38;5;28;01mas\u001b[39;00m err:\n\u001b[0;32m    577\u001b[0m     addr \u001b[38;5;241m=\u001b[39m (\n\u001b[0;32m    578\u001b[0m         \u001b[38;5;28mself\u001b[39m\u001b[38;5;241m.\u001b[39m_unix_socket \u001b[38;5;28;01mif\u001b[39;00m \u001b[38;5;28mself\u001b[39m\u001b[38;5;241m.\u001b[39m_unix_socket \u001b[38;5;28;01melse\u001b[39;00m \u001b[38;5;124mf\u001b[39m\u001b[38;5;124m\"\u001b[39m\u001b[38;5;132;01m{\u001b[39;00m\u001b[38;5;28mself\u001b[39m\u001b[38;5;241m.\u001b[39m_host\u001b[38;5;132;01m}\u001b[39;00m\u001b[38;5;124m:\u001b[39m\u001b[38;5;132;01m{\u001b[39;00m\u001b[38;5;28mself\u001b[39m\u001b[38;5;241m.\u001b[39m_port\u001b[38;5;132;01m}\u001b[39;00m\u001b[38;5;124m\"\u001b[39m\n\u001b[0;32m    579\u001b[0m     )\n",
      "\u001b[1;31mDatabaseError\u001b[0m: 1007 (HY000): Can't create database 'cold'; database exists"
     ]
    }
   ],
   "source": [
    "mycursor = mydb.cursor()\n",
    "\n",
    "mycursor.execute('CREATE DATABASE cold')"
   ]
  },
  {
   "cell_type": "markdown",
   "id": "f237b248",
   "metadata": {},
   "source": [
    "# Show Databases"
   ]
  },
  {
   "cell_type": "code",
   "execution_count": null,
   "id": "1f64133e",
   "metadata": {},
   "outputs": [],
   "source": [
    "mycursor = mydb.cursor()\n",
    "\n",
    "mycursor.execute('SHOW DATABASEs')\n",
    "\n",
    "for x in mycursor:\n",
    "    print(x)"
   ]
  },
  {
   "cell_type": "markdown",
   "id": "0ae59f30",
   "metadata": {},
   "source": [
    "# Conneting Database to mysql workbench"
   ]
  },
  {
   "cell_type": "code",
   "execution_count": null,
   "id": "fcd88f5f",
   "metadata": {},
   "outputs": [],
   "source": [
    "mydb = mysql.connector.connect(\n",
    "    host = 'localhost',\n",
    "    user = 'root',\n",
    "    password = 'Aditya100',\n",
    "    database = 's_info'\n",
    "\n",
    "\n",
    ")\n",
    "print(mydb)\n"
   ]
  },
  {
   "cell_type": "markdown",
   "id": "34bc261c",
   "metadata": {},
   "source": [
    "# Check Table was exits"
   ]
  },
  {
   "cell_type": "code",
   "execution_count": null,
   "id": "53e8bc7b",
   "metadata": {},
   "outputs": [],
   "source": [
    "mycursor = mydb.cursor()\n",
    "\n",
    "mycursor.execute('SHOW TABLES')\n",
    "\n",
    "for x in mycursor:\n",
    "    print(x)"
   ]
  },
  {
   "cell_type": "markdown",
   "id": "1b7d3788",
   "metadata": {},
   "source": [
    "# Creating a Table With Primary Key"
   ]
  },
  {
   "cell_type": "code",
   "execution_count": null,
   "id": "ca5ea31a",
   "metadata": {},
   "outputs": [],
   "source": [
    "mydb = mysql.connector.connect(\n",
    "    host = 'localhost',\n",
    "    user = 'root',\n",
    "    password = 'Aditya100',\n",
    "    database = 'cold'\n",
    "\n",
    "\n",
    ")\n",
    "print(mydb)\n",
    "\n",
    "\n",
    "\n",
    "mycursor = mydb.cursor()\n",
    "\n",
    "mycursor.execute('create table drinks(Id int auto_increment primary key, Name varchar(25), Price varchar(10))')\n",
    "\n",
    "\n"
   ]
  },
  {
   "cell_type": "markdown",
   "id": "0158b8a9",
   "metadata": {},
   "source": [
    "# Insert data into drinks table"
   ]
  },
  {
   "cell_type": "code",
   "execution_count": null,
   "id": "f37fcdd0",
   "metadata": {},
   "outputs": [],
   "source": [
    "mycursor = mydb.cursor()\n",
    "\n",
    "sql = 'insert into drinks (Name, Price) values (%s, %s)'\n",
    "val = ('Pepsi', '400')\n",
    "\n",
    "mycursor.execute(sql, val)\n",
    "\n",
    "mydb.commit()\n",
    "\n",
    "print(mycursor.rowcount, 'Record Inserted')\n"
   ]
  },
  {
   "cell_type": "markdown",
   "id": "b3551559",
   "metadata": {},
   "source": [
    "# Insert multiple record"
   ]
  },
  {
   "cell_type": "code",
   "execution_count": null,
   "id": "0ef1f439",
   "metadata": {},
   "outputs": [],
   "source": [
    "mycursor = mydb.cursor()\n",
    "\n",
    "sql = 'insert into drinks (Name, Price) values (%s, %s)'\n",
    "val = [\n",
    "    ('Coca-Cola', '500'),\n",
    "    ('Breizh Cola','200'),\n",
    "    ('Coca-Cola', '300'),\n",
    "    ('Green Cola', '600'),\n",
    "    ('Jolt Cola', '800'),\n",
    "    ('Mecca Cola', '150'),\n",
    "    ('Pepsi', '100'),\n",
    "    ('RC cola', '500'),\n",
    "    ('Topsia Cola', '700')\n",
    "]\n",
    "\n",
    "mycursor.executemany(sql, val)\n",
    "\n",
    "mydb.commit()\n",
    "\n",
    "print(mycursor.rowcount, 'Was Inserted')"
   ]
  },
  {
   "cell_type": "markdown",
   "id": "c54c37fb",
   "metadata": {},
   "source": [
    "# Select From a Table"
   ]
  },
  {
   "cell_type": "code",
   "execution_count": null,
   "id": "ce9d1b3f",
   "metadata": {},
   "outputs": [],
   "source": [
    "mycursor.execute('select * from drinks')\n",
    "\n",
    "myresult = mycursor.fetchall()\n",
    "\n",
    "for x in myresult:\n",
    "    print(x)"
   ]
  },
  {
   "cell_type": "code",
   "execution_count": null,
   "id": "6f949e7f",
   "metadata": {},
   "outputs": [],
   "source": [
    "mycursor.execute('select Id, Name from drinks')\n",
    "\n",
    "myresult = mycursor.fetchall()\n",
    "\n",
    "for x in myresult:\n",
    "    print(x)\n",
    "    \n",
    "# You find Single record Using Fetchone() Query"
   ]
  },
  {
   "cell_type": "markdown",
   "id": "2ea38ec1",
   "metadata": {},
   "source": [
    "# Where"
   ]
  },
  {
   "cell_type": "code",
   "execution_count": 4,
   "id": "96e486fa",
   "metadata": {},
   "outputs": [
    {
     "name": "stdout",
     "output_type": "stream",
     "text": [
      "<mysql.connector.connection_cext.CMySQLConnection object at 0x0000029C39FF5880>\n",
      "(1, 'Lassi', '200')\n",
      "(2, 'Lassi', '200')\n",
      "(5, 'Breizh Cola', '200')\n"
     ]
    }
   ],
   "source": [
    "mydb = mysql.connector.connect(\n",
    "    host = 'localhost',\n",
    "    user = 'root',\n",
    "    password = 'Aditya100',\n",
    "    database = 'cold'\n",
    "\n",
    "\n",
    ")\n",
    "print(mydb)\n",
    "\n",
    "\n",
    "mycursor = mydb.cursor()\n",
    "\n",
    "\n",
    "sql = 'select * from drinks where Price = \"200\"'\n",
    "\n",
    "mycursor.execute(sql)\n",
    "\n",
    "myresut = mycursor.fetchall()\n",
    "\n",
    "for x in myresut:\n",
    "    print(x)"
   ]
  },
  {
   "cell_type": "code",
   "execution_count": 11,
   "id": "46b07dfe",
   "metadata": {},
   "outputs": [
    {
     "name": "stdout",
     "output_type": "stream",
     "text": [
      "(5, 'Breizh Cola', '200')\n",
      "(7, 'Green Cola', '600')\n",
      "(11, 'RC cola', '500')\n"
     ]
    }
   ],
   "source": [
    "\n",
    "sql = 'select * from drinks where Name like \"%r%\"'\n",
    "\n",
    "mycursor.execute(sql)\n",
    "\n",
    "myresut = mycursor.fetchall()\n",
    "\n",
    "for x in myresut:\n",
    "    print(x)"
   ]
  },
  {
   "cell_type": "markdown",
   "id": "eb2ebb2a",
   "metadata": {},
   "source": [
    "# Order By"
   ]
  },
  {
   "cell_type": "code",
   "execution_count": 12,
   "id": "cdd83dff",
   "metadata": {},
   "outputs": [
    {
     "name": "stdout",
     "output_type": "stream",
     "text": [
      "(5, 'Breizh Cola', '200')\n",
      "(4, 'Coca-Cola', '500')\n",
      "(6, 'Coca-Cola', '300')\n",
      "(7, 'Green Cola', '600')\n",
      "(8, 'Jolt Cola', '800')\n",
      "(1, 'Lassi', '200')\n",
      "(2, 'Lassi', '200')\n",
      "(9, 'Mecca Cola', '150')\n",
      "(3, 'Pepsi', '400')\n",
      "(10, 'Pepsi', '100')\n",
      "(11, 'RC cola', '500')\n",
      "(12, 'Topsia Cola', '700')\n"
     ]
    }
   ],
   "source": [
    "sql = 'select * from drinks order by Name'\n",
    "\n",
    "mycursor.execute(sql)\n",
    "\n",
    "myresult = mycursor.fetchall()\n",
    "\n",
    "for x in myresult:\n",
    "    print(x)"
   ]
  },
  {
   "cell_type": "code",
   "execution_count": 16,
   "id": "31a6de80",
   "metadata": {},
   "outputs": [
    {
     "name": "stdout",
     "output_type": "stream",
     "text": [
      "(12, 'Topsia Cola', '700')\n",
      "(11, 'RC cola', '500')\n",
      "(3, 'Pepsi', '400')\n",
      "(10, 'Pepsi', '100')\n",
      "(9, 'Mecca Cola', '150')\n",
      "(1, 'Lassi', '200')\n",
      "(2, 'Lassi', '200')\n",
      "(8, 'Jolt Cola', '800')\n",
      "(7, 'Green Cola', '600')\n",
      "(4, 'Coca-Cola', '500')\n",
      "(6, 'Coca-Cola', '300')\n",
      "(5, 'Breizh Cola', '200')\n"
     ]
    }
   ],
   "source": [
    "sql = 'select * from drinks order by Name desc'\n",
    "\n",
    "mycursor.execute(sql)\n",
    "\n",
    "myresult = mycursor.fetchall()\n",
    "\n",
    "for x in myresult:\n",
    "    print(x)"
   ]
  },
  {
   "cell_type": "markdown",
   "id": "80231e82",
   "metadata": {},
   "source": [
    "# Delete Record"
   ]
  },
  {
   "cell_type": "code",
   "execution_count": 17,
   "id": "827aa43a",
   "metadata": {},
   "outputs": [
    {
     "name": "stdout",
     "output_type": "stream",
     "text": [
      "2 record(s) was deleted\n"
     ]
    }
   ],
   "source": [
    "mycursor = mydb.cursor()\n",
    "\n",
    "sql = 'delete from drinks where Name = \"Pepsi\"'\n",
    "\n",
    "mycursor.execute(sql)\n",
    "\n",
    "mydb.commit()\n",
    "\n",
    "print(mycursor.rowcount, 'record(s) was deleted')"
   ]
  },
  {
   "cell_type": "code",
   "execution_count": 25,
   "id": "bedcbb37",
   "metadata": {},
   "outputs": [
    {
     "name": "stdout",
     "output_type": "stream",
     "text": [
      "<mysql.connector.connection_cext.CMySQLConnection object at 0x0000029C3AD09B50>\n",
      "(1, 'Lassi', '200')\n",
      "(2, 'Lassi', '200')\n",
      "(4, 'Coca-Cola', '500')\n",
      "(5, 'Breizh Cola', '200')\n",
      "(6, 'Coca-Cola', '300')\n",
      "(7, 'Green Cola', '600')\n",
      "(8, 'Jolt Cola', '800')\n",
      "(9, 'Mecca Cola', '150')\n",
      "(11, 'RC cola', '500')\n",
      "(12, 'Topsia Cola', '700')\n"
     ]
    }
   ],
   "source": [
    "mydb = mysql.connector.connect(\n",
    "    host = 'localhost',\n",
    "    user = 'root',\n",
    "    password = 'Aditya100',\n",
    "    database = 'cold'\n",
    "\n",
    "\n",
    ")\n",
    "print(mydb)\n",
    "\n",
    "\n",
    "mycursor = mydb.cursor()\n",
    "\n",
    "mycursor.execute('select * from drinks')\n",
    "\n",
    "myresult = mycursor.fetchall()\n",
    "\n",
    "for x in myresult:\n",
    "    print(x)"
   ]
  },
  {
   "cell_type": "markdown",
   "id": "b98f3cfd",
   "metadata": {},
   "source": [
    "# Drop Table"
   ]
  },
  {
   "cell_type": "code",
   "execution_count": 30,
   "id": "1b990e30",
   "metadata": {},
   "outputs": [
    {
     "name": "stdout",
     "output_type": "stream",
     "text": [
      "<mysql.connector.connection_cext.CMySQLConnection object at 0x0000029C3B9054F0>\n"
     ]
    }
   ],
   "source": [
    "mydb = mysql.connector.connect(\n",
    "    host = 'localhost',\n",
    "    user = 'root',\n",
    "    password = 'Aditya100',\n",
    "    database = 'cold'\n",
    "\n",
    "\n",
    ")\n",
    "print(mydb)\n",
    "\n"
   ]
  },
  {
   "cell_type": "code",
   "execution_count": 41,
   "id": "9414ce17",
   "metadata": {},
   "outputs": [],
   "source": [
    "mycursor = mydb.cursor()\n",
    "\n",
    "mycursor.execute('create table Water(Id int auto_increment primary key, Name varchar(25), Price varchar(10))')"
   ]
  },
  {
   "cell_type": "code",
   "execution_count": 33,
   "id": "8c3af358",
   "metadata": {},
   "outputs": [],
   "source": [
    "mycursor = mydb.cursor()\n",
    "\n",
    "sql = \"drop table Soft\"    # Drop tables\n",
    "\n",
    "mycursor.execute(sql)\n"
   ]
  },
  {
   "cell_type": "code",
   "execution_count": 43,
   "id": "fd1939ee",
   "metadata": {},
   "outputs": [],
   "source": [
    "mycursor = mydb.cursor()\n",
    "\n",
    "sql = \"drop table if exists Soft\"    # Drop tables\n",
    "\n",
    "mycursor.execute(sql)"
   ]
  },
  {
   "cell_type": "code",
   "execution_count": 44,
   "id": "c0c00e75",
   "metadata": {},
   "outputs": [
    {
     "name": "stdout",
     "output_type": "stream",
     "text": [
      "('drinks',)\n",
      "('liquid',)\n",
      "('water',)\n"
     ]
    }
   ],
   "source": [
    "mycursor = mydb.cursor()\n",
    "\n",
    "mycursor.execute('SHOW TABLES')\n",
    "\n",
    "for x in mycursor:\n",
    "    print(x)"
   ]
  },
  {
   "cell_type": "markdown",
   "id": "79ef85f2",
   "metadata": {},
   "source": [
    "# Update record"
   ]
  },
  {
   "cell_type": "code",
   "execution_count": 45,
   "id": "e106114d",
   "metadata": {},
   "outputs": [
    {
     "name": "stdout",
     "output_type": "stream",
     "text": [
      "<mysql.connector.connection_cext.CMySQLConnection object at 0x0000029C3BCAC3A0>\n"
     ]
    }
   ],
   "source": [
    "mydb = mysql.connector.connect(\n",
    "    host = 'localhost',\n",
    "    user = 'root',\n",
    "    password = 'Aditya100',\n",
    "    database = 'cold'\n",
    "\n",
    "\n",
    ")\n",
    "print(mydb)"
   ]
  },
  {
   "cell_type": "code",
   "execution_count": 47,
   "id": "c6363bbe",
   "metadata": {},
   "outputs": [
    {
     "name": "stdout",
     "output_type": "stream",
     "text": [
      "1 record(s) affected\n"
     ]
    }
   ],
   "source": [
    "mycursor = mydb.cursor()\n",
    "\n",
    "sql = \"update drinks set Name = 'Limca' where Id = 2\"\n",
    "\n",
    "mycursor.execute(sql)\n",
    "\n",
    "mydb.commit()\n",
    "\n",
    "print(mycursor.rowcount, \"record(s) affected\")"
   ]
  },
  {
   "cell_type": "code",
   "execution_count": 48,
   "id": "97f6cf6b",
   "metadata": {},
   "outputs": [
    {
     "name": "stdout",
     "output_type": "stream",
     "text": [
      "(1, 'Lassi', '200')\n",
      "(2, 'Limca', '200')\n",
      "(4, 'Coca-Cola', '500')\n",
      "(5, 'Breizh Cola', '200')\n",
      "(6, 'Coca-Cola', '300')\n",
      "(7, 'Green Cola', '600')\n",
      "(8, 'Jolt Cola', '800')\n",
      "(9, 'Mecca Cola', '150')\n",
      "(11, 'RC cola', '500')\n",
      "(12, 'Topsia Cola', '700')\n"
     ]
    }
   ],
   "source": [
    "mycursor = mydb.cursor()\n",
    "\n",
    "mycursor.execute('select * from drinks')\n",
    "\n",
    "myresult = mycursor.fetchall()\n",
    "\n",
    "for x in myresult:\n",
    "    print(x)"
   ]
  },
  {
   "cell_type": "markdown",
   "id": "e318d8db",
   "metadata": {},
   "source": [
    "# Limit the Result"
   ]
  },
  {
   "cell_type": "code",
   "execution_count": 49,
   "id": "4ba3f7e5",
   "metadata": {},
   "outputs": [
    {
     "name": "stdout",
     "output_type": "stream",
     "text": [
      "<mysql.connector.connection_cext.CMySQLConnection object at 0x0000029C3B543040>\n"
     ]
    }
   ],
   "source": [
    "mydb = mysql.connector.connect(\n",
    "    host = 'localhost',\n",
    "    user = 'root',\n",
    "    password = 'Aditya100',\n",
    "    database = 'cold'\n",
    "\n",
    "\n",
    ")\n",
    "print(mydb)"
   ]
  },
  {
   "cell_type": "code",
   "execution_count": 50,
   "id": "329f0a38",
   "metadata": {},
   "outputs": [
    {
     "name": "stdout",
     "output_type": "stream",
     "text": [
      "(1, 'Lassi', '200')\n",
      "(2, 'Limca', '200')\n",
      "(4, 'Coca-Cola', '500')\n",
      "(5, 'Breizh Cola', '200')\n",
      "(6, 'Coca-Cola', '300')\n"
     ]
    }
   ],
   "source": [
    "mycursor = mydb.cursor()\n",
    "\n",
    "mycursor.execute('select * from drinks limit 5')\n",
    "\n",
    "myresult = mycursor.fetchall()\n",
    "\n",
    "for x in myresult:\n",
    "    print(x)\n"
   ]
  },
  {
   "cell_type": "code",
   "execution_count": 52,
   "id": "a84616ed",
   "metadata": {},
   "outputs": [
    {
     "name": "stdout",
     "output_type": "stream",
     "text": [
      "(7, 'Green Cola', '600')\n",
      "(8, 'Jolt Cola', '800')\n",
      "(9, 'Mecca Cola', '150')\n",
      "(11, 'RC cola', '500')\n",
      "(12, 'Topsia Cola', '700')\n"
     ]
    }
   ],
   "source": [
    "mycursor = mydb.cursor()\n",
    "\n",
    "mycursor.execute('select * from drinks limit 5 offset 5')\n",
    "\n",
    "myresult = mycursor.fetchall()\n",
    "\n",
    "for x in myresult:\n",
    "    print(x)\n"
   ]
  },
  {
   "cell_type": "code",
   "execution_count": null,
   "id": "605b97a4",
   "metadata": {},
   "outputs": [],
   "source": []
  }
 ],
 "metadata": {
  "kernelspec": {
   "display_name": "Python 3 (ipykernel)",
   "language": "python",
   "name": "python3"
  },
  "language_info": {
   "codemirror_mode": {
    "name": "ipython",
    "version": 3
   },
   "file_extension": ".py",
   "mimetype": "text/x-python",
   "name": "python",
   "nbconvert_exporter": "python",
   "pygments_lexer": "ipython3",
   "version": "3.9.13"
  }
 },
 "nbformat": 4,
 "nbformat_minor": 5
}
